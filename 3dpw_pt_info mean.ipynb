{
 "cells": [
  {
   "cell_type": "code",
   "execution_count": 1,
   "metadata": {
    "ExecuteTime": {
     "end_time": "2025-03-28T15:28:41.708654Z",
     "start_time": "2025-03-28T15:28:36.189925Z"
    }
   },
   "outputs": [
    {
     "name": "stdout",
     "output_type": "stream",
     "text": [
      "数据字典中包含的键:\n",
      "dict_keys(['edge_index', 'rotate_mat', 'bos_mask', 'padding_mask', 'body_xyz', 'x', 'positions', 'y', 'rotate_angles', 'num_nodes'])\n",
      "edge_index\n",
      "rotate_mat\n",
      "bos_mask\n",
      "padding_mask\n",
      "body_xyz\n",
      "x\n",
      "positions\n",
      "y\n",
      "rotate_angles\n",
      "num_nodes\n",
      "\n",
      "数据形状信息:\n",
      "body_xyz: torch.Size([2, 30, 13, 3])\n",
      "x: torch.Size([2, 10, 3])\n",
      "positions: torch.Size([2, 30, 3])\n",
      "y: torch.Size([2, 20, 3])\n",
      "num_nodes: 2\n",
      "tensor([ 2.0798, -1.3113,  0.6919])\n"
     ]
    }
   ],
   "source": [
    "# 读取3dpw里的一个.pt文件(preprocessed\\3dpw_input10_v2\\train\\0.pt),并将读取到的TemporalData对象转化为字典\n",
    "import torch\n",
    "import os.path as osp\n",
    "\n",
    "# 指定文件路径\n",
    "pt_path = osp.join('preprocessed', '3dpw_input10_v2','mean', 'train', '0.pt')\n",
    "\n",
    "# 读取.pt文件\n",
    "data = torch.load(pt_path)\n",
    "\n",
    "# 将TemporalData对象转换为字典\n",
    "data_dict = dict(data)\n",
    "\n",
    "# 打印字典中的所有键\n",
    "print(\"数据字典中包含的键:\")\n",
    "print(data_dict.keys())\n",
    "for key in data_dict.keys():\n",
    "    print(key)\n",
    "\n",
    "# 打印一些关键数据的形状\n",
    "print(\"\\n数据形状信息:\")\n",
    "print(f\"body_xyz: {data_dict['body_xyz'].shape}\")  # 人体关节点坐标\n",
    "print(f\"x: {data_dict['x'].shape}\")  # 输入序列\n",
    "print(f\"positions: {data_dict['positions'].shape}\")  # 位置序列\n",
    "print(f\"y: {data_dict['y'].shape}\")  # 输出序列\n",
    "print(f\"num_nodes: {data_dict['num_nodes']}\")  # 节点数量\n",
    "body_xyz = data_dict[\"body_xyz\"][0]\n",
    "print(data_dict[\"positions\"][0][0])"
   ]
  }
 ],
 "metadata": {
  "kernelspec": {
   "display_name": "venv",
   "language": "python",
   "name": "python3"
  },
  "language_info": {
   "codemirror_mode": {
    "name": "ipython",
    "version": 3
   },
   "file_extension": ".py",
   "mimetype": "text/x-python",
   "name": "python",
   "nbconvert_exporter": "python",
   "pygments_lexer": "ipython3",
   "version": "3.11.9"
  }
 },
 "nbformat": 4,
 "nbformat_minor": 2
}
