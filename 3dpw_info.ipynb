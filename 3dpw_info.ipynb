{
 "cells": [
  {
   "cell_type": "markdown",
   "metadata": {},
   "source": [
    "# 3pdw 数据集\n",
    "\n",
    "1. 存储形式\n",
    "\n",
    "- 3dpw 数据集以字典形式存储并封装为一个 pkl 文件，包含'train'、'test' 和 'valid' 三个键，训练集、测试集、验证集大小分别为 6479、85、36，每个键对应的值是一个列表，列表中的每个元素是一个三维数组，表示当前序列中所有智能体的姿态信息/3D 坐标\n",
    "\n",
    "2. 构成\n",
    "\n",
    "- 形状为(N_sequence/B, N_agents/N, T, D/JXYZ) ，值为(N_sequence, 2,30,39)\n",
    "  - N_sequences 表示序列的数量\n",
    "  - N_agents 表示每个序列中的智能体数量\n",
    "  - T 表示时间步长/帧数\n",
    "  - D/JXYZ 表示每个智能体在每个时间步/帧的特征维度/3D 坐标\n",
    "    - 每个智能体的特征维度为 39，进一步可以分解为 13 个关节点，每个关节点有 3 个坐标（x, y, z）。因此，15 * 3 = 39。"
   ]
  },
  {
   "cell_type": "code",
   "execution_count": 1,
   "id": "6b7fbd65-b0ca-4bf7-bb67-b6985e8462c3",
   "metadata": {},
   "outputs": [
    {
     "name": "stdout",
     "output_type": "stream",
     "text": [
      "dict_keys(['train', 'test', 'valid'])\n",
      "train 6479\n",
      "test 85\n",
      "valid 36\n",
      "[[[-0.18480906  0.02730536  0.36681416 ... -0.47805701  0.03340264\n",
      "    0.325349  ]\n",
      "  [-0.1788836   0.03545554  0.36369817 ... -0.47097943  0.04170518\n",
      "    0.32010887]\n",
      "  [-0.17123562  0.04394679  0.35891618 ... -0.46234726  0.05029151\n",
      "    0.31381398]\n",
      "  ...\n",
      "  [-0.25128165  0.15910227 -0.06551952 ... -0.19566307  0.15358375\n",
      "    0.24412758]\n",
      "  [-0.23861988  0.15591599 -0.07928046 ... -0.18514737  0.17268336\n",
      "    0.21071638]\n",
      "  [-0.22829748  0.15078785 -0.10022338 ... -0.16354041  0.18717074\n",
      "    0.20735727]]\n",
      "\n",
      " [[ 0.60196946  0.11379144  0.43891844 ...  0.37688982  0.1481903\n",
      "    0.53455487]\n",
      "  [ 0.60511214  0.12245807  0.43548029 ...  0.37444052  0.15514485\n",
      "    0.53267304]\n",
      "  [ 0.60656249  0.13099318  0.43367027 ...  0.37261529  0.16412594\n",
      "    0.52974496]\n",
      "  ...\n",
      "  [ 0.94260314  0.29364733  0.31546315 ...  0.84513592  0.32001382\n",
      "    0.02740069]\n",
      "  [ 0.92232434  0.29158115  0.30626327 ...  0.82269664  0.31865071\n",
      "    0.02887397]\n",
      "  [ 0.90333294  0.29056295  0.29576493 ...  0.80130951  0.31831439\n",
      "    0.0325139 ]]]\n"
     ]
    }
   ],
   "source": [
    "import os\n",
    "import numpy as np\n",
    "import matplotlib.pyplot as plt\n",
    "from mpl_toolkits.mplot3d import Axes3D\n",
    "import pickle\n",
    "\n",
    "# 加载并可视化test_3_75_mocap_umpm.npy\n",
    "# data_dir = 'data/Mocap_UMPM'\n",
    "# data = np.load(os.path.join(data_dir, 'test_3_75_mocap_umpm.npy'))\n",
    "# print(data.shape) # (3000, 3, 75, 45)\n",
    "\n",
    "# 加载并可视化poseData.pkl(3dpw)\n",
    "data_dir = \"data/\"\n",
    "f = open(os.path.join(data_dir, \"poseData.pkl\"), \"rb\")\n",
    "data = pickle.load(f)\n",
    "print(data.keys())  # dict_keys(['train', 'test', 'valid'])\n",
    "for key in data.keys():\n",
    "    # 每个key是一个列表，打印列表的长度\n",
    "    print(key, len(data[key]))\n",
    "    # 打印每个列表的第一个元素\n",
    "    # print(data[key][0])\n",
    "print(data[\"valid\"][0])\n",
    "val_data = data[\"valid\"]\n",
    "temp = val_data[0]"
   ]
  }
 ],
 "metadata": {
  "kernelspec": {
   "display_name": "venv",
   "language": "python",
   "name": "python3"
  },
  "language_info": {
   "codemirror_mode": {
    "name": "ipython",
    "version": 3
   },
   "file_extension": ".py",
   "mimetype": "text/x-python",
   "name": "python",
   "nbconvert_exporter": "python",
   "pygments_lexer": "ipython3",
   "version": "3.11.9"
  }
 },
 "nbformat": 4,
 "nbformat_minor": 2
}
